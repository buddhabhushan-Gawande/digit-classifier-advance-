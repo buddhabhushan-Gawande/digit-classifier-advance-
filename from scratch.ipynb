{
 "cells": [
  {
   "cell_type": "code",
   "execution_count": 1,
   "metadata": {},
   "outputs": [
    {
     "name": "stdout",
     "output_type": "stream",
     "text": [
      "[0, 0, 0, 1, 0, 0, 0, 0, 0, 0]\n",
      "(33, 35)\n"
     ]
    },
    {
     "data": {
      "image/png": "[encoded data removed]",
      "text/plain": [
       "<Figure size 640x480 with 1 Axes>"
      ]
     },
     "metadata": {},
     "output_type": "display_data"
    }
   ],
   "source": [
    "import tensorflow as tf\n",
    "from tensorflow import keras\n",
    "import cv2 as cv\n",
    "import numpy as np\n",
    "import matplotlib.pyplot as plt\n",
    "\n",
    "img = cv.imread('numbers1.jpg')\n",
    "xtrain = []\n",
    "ytrain = []\n",
    "for i in range(50):\n",
    "    gray = cv.cvtColor(img,cv.COLOR_BGR2GRAY)\n",
    "    shape = gray.shape\n",
    "    x = int(559/15.8)\n",
    "    y = int(shape[0]/10)\n",
    "    n = np.random.randint(8)\n",
    "    n2 = np.random.randint(15)\n",
    "    digit = gray[y*n:y*(n+1),x*n2:x*(n2+1)]\n",
    "    \n",
    "    xtrain.append(digit)\n",
    "    one_hot = [0,0,0,0,0,0,0,0,0,0]\n",
    "    one_hot[n] = 1\n",
    "    ytrain.append(one_hot)\n",
    "    plt.imshow(digit)\n",
    "\n",
    "    \n",
    "dgit = digit.shape\n",
    "print(one_hot)\n",
    "print(dgit)"
   ]
  },
  {
   "cell_type": "code",
   "execution_count": 6,
   "metadata": {},
   "outputs": [
    {
     "name": "stdout",
     "output_type": "stream",
     "text": [
      "(10, 33, 35)\n",
      "(10, 10)\n",
      "[[0.17432569 0.17513282 0.17482143 ... 0.17407766 0.17407766 0.17407766]\n",
      " [0.17432569 0.17513282 0.17482143 ... 0.17407766 0.17407766 0.17407766]\n",
      " [0.17432569 0.17513282 0.17482143 ... 0.17407766 0.17407766 0.17407766]\n",
      " ...\n",
      " [0.17432569 0.17307243 0.17482143 ... 0.17407766 0.17407766 0.17407766]\n",
      " [0.17432569 0.17375923 0.17482143 ... 0.17407766 0.17407766 0.17407766]\n",
      " [0.17432569 0.17513282 0.17482143 ... 0.17407766 0.17407766 0.17407766]]\n"
     ]
    }
   ],
   "source": [
    "model = keras.Sequential([\n",
    "    keras.layers.Flatten(),\n",
    "    keras.layers.Dense(40,activation='relu'),\n",
    "    keras.layers.Dense(40,activation='relu'),\n",
    "    keras.layers.Dense(40,activation='relu'),\n",
    "    keras.layers.Dense(40,activation='relu'),\n",
    "    keras.layers.Dense(10, activation='sigmoid')\n",
    "])\n",
    "\n",
    "\n",
    "xtrain = tf.keras.utils.normalize(xtrain,axis=1)\n",
    "ytrain = tf.keras.utils.normalize(ytrain,axis=1)\n",
    "print(xtrain.shape)\n",
    "print(ytrain.shape)\n",
    "print(xtrain[0])"
   ]
  },
  {
   "cell_type": "code",
   "execution_count": 3,
   "metadata": {},
   "outputs": [
    {
     "name": "stdout",
     "output_type": "stream",
     "text": [
      "Epoch 1/50\n",
      "5/5 [==============================] - 2s 6ms/step - loss: 2.3272 - accuracy: 0.1000\n",
      "Epoch 2/50\n",
      "5/5 [==============================] - 0s 5ms/step - loss: 2.2963 - accuracy: 0.1600\n",
      "Epoch 3/50\n",
      "5/5 [==============================] - 0s 5ms/step - loss: 2.2760 - accuracy: 0.1600\n",
      "Epoch 4/50\n",
      "5/5 [==============================] - 0s 5ms/step - loss: 2.2608 - accuracy: 0.1600\n",
      "Epoch 5/50\n",
      "5/5 [==============================] - 0s 4ms/step - loss: 2.2390 - accuracy: 0.1600\n",
      "Epoch 6/50\n",
      "5/5 [==============================] - 0s 5ms/step - loss: 2.2117 - accuracy: 0.1600\n",
      "Epoch 7/50\n",
      "5/5 [==============================] - 0s 5ms/step - loss: 2.1844 - accuracy: 0.1600\n",
      "Epoch 8/50\n",
      "5/5 [==============================] - 0s 5ms/step - loss: 2.1616 - accuracy: 0.1600\n",
      "Epoch 9/50\n",
      "5/5 [==============================] - 0s 5ms/step - loss: 2.1303 - accuracy: 0.1600\n",
      "Epoch 10/50\n",
      "5/5 [==============================] - 0s 6ms/step - loss: 2.1042 - accuracy: 0.1600\n",
      "Epoch 11/50\n",
      "5/5 [==============================] - 0s 5ms/step - loss: 2.0789 - accuracy: 0.1600\n",
      "Epoch 12/50\n",
      "5/5 [==============================] - 0s 5ms/step - loss: 2.0560 - accuracy: 0.1600\n",
      "Epoch 13/50\n",
      "5/5 [==============================] - 0s 4ms/step - loss: 2.0297 - accuracy: 0.1600\n",
      "Epoch 14/50\n",
      "5/5 [==============================] - 0s 5ms/step - loss: 2.0207 - accuracy: 0.1800\n",
      "Epoch 15/50\n",
      "5/5 [==============================] - 0s 4ms/step - loss: 1.9924 - accuracy: 0.3800\n",
      "Epoch 16/50\n",
      "5/5 [==============================] - 0s 5ms/step - loss: 1.9796 - accuracy: 0.4000\n",
      "Epoch 17/50\n",
      "5/5 [==============================] - 0s 6ms/step - loss: 1.9605 - accuracy: 0.3400\n",
      "Epoch 18/50\n",
      "5/5 [==============================] - 0s 5ms/step - loss: 1.9760 - accuracy: 0.2200\n",
      "Epoch 19/50\n",
      "5/5 [==============================] - 0s 5ms/step - loss: 1.9231 - accuracy: 0.4400\n",
      "Epoch 20/50\n",
      "5/5 [==============================] - 0s 4ms/step - loss: 1.9150 - accuracy: 0.4200\n",
      "Epoch 21/50\n",
      "5/5 [==============================] - 0s 5ms/step - loss: 1.8922 - accuracy: 0.3000\n",
      "Epoch 22/50\n",
      "5/5 [==============================] - 0s 4ms/step - loss: 1.8626 - accuracy: 0.4000\n",
      "Epoch 23/50\n",
      "5/5 [==============================] - 0s 7ms/step - loss: 1.8211 - accuracy: 0.3800\n",
      "Epoch 24/50\n",
      "5/5 [==============================] - 0s 7ms/step - loss: 1.7847 - accuracy: 0.5000\n",
      "Epoch 25/50\n",
      "5/5 [==============================] - 0s 6ms/step - loss: 1.7454 - accuracy: 0.4400\n",
      "Epoch 26/50\n",
      "5/5 [==============================] - 0s 5ms/step - loss: 1.7207 - accuracy: 0.4200\n",
      "Epoch 27/50\n",
      "5/5 [==============================] - 0s 4ms/step - loss: 1.6787 - accuracy: 0.5000\n",
      "Epoch 28/50\n",
      "5/5 [==============================] - 0s 4ms/step - loss: 1.7239 - accuracy: 0.4200\n",
      "Epoch 29/50\n",
      "5/5 [==============================] - 0s 5ms/step - loss: 1.6847 - accuracy: 0.4000\n",
      "Epoch 30/50\n",
      "5/5 [==============================] - 0s 5ms/step - loss: 1.5611 - accuracy: 0.5000\n",
      "Epoch 31/50\n",
      "5/5 [==============================] - 0s 6ms/step - loss: 1.5788 - accuracy: 0.4600\n",
      "Epoch 32/50\n",
      "5/5 [==============================] - 0s 6ms/step - loss: 1.5185 - accuracy: 0.4800\n",
      "Epoch 33/50\n",
      "5/5 [==============================] - 0s 5ms/step - loss: 1.4785 - accuracy: 0.4600\n",
      "Epoch 34/50\n",
      "5/5 [==============================] - 0s 4ms/step - loss: 1.4775 - accuracy: 0.4800\n",
      "Epoch 35/50\n",
      "5/5 [==============================] - 0s 4ms/step - loss: 1.4195 - accuracy: 0.4600\n",
      "Epoch 36/50\n",
      "5/5 [==============================] - 0s 5ms/step - loss: 1.3780 - accuracy: 0.5000\n",
      "Epoch 37/50\n",
      "5/5 [==============================] - 0s 4ms/step - loss: 1.3578 - accuracy: 0.4800\n",
      "Epoch 38/50\n",
      "5/5 [==============================] - 0s 5ms/step - loss: 1.3467 - accuracy: 0.4200\n",
      "Epoch 39/50\n",
      "5/5 [==============================] - 0s 5ms/step - loss: 1.3567 - accuracy: 0.5000\n",
      "Epoch 40/50\n",
      "5/5 [==============================] - 0s 6ms/step - loss: 1.2371 - accuracy: 0.5200\n",
      "Epoch 41/50\n",
      "5/5 [==============================] - 0s 5ms/step - loss: 1.1840 - accuracy: 0.5600\n",
      "Epoch 42/50\n",
      "5/5 [==============================] - 0s 5ms/step - loss: 1.1537 - accuracy: 0.6200\n",
      "Epoch 43/50\n",
      "5/5 [==============================] - 0s 5ms/step - loss: 1.1065 - accuracy: 0.6200\n",
      "Epoch 44/50\n",
      "5/5 [==============================] - 0s 5ms/step - loss: 1.0890 - accuracy: 0.6200\n",
      "Epoch 45/50\n",
      "5/5 [==============================] - 0s 4ms/step - loss: 1.1128 - accuracy: 0.6000\n",
      "Epoch 46/50\n",
      "5/5 [==============================] - 0s 5ms/step - loss: 1.0856 - accuracy: 0.6000\n",
      "Epoch 47/50\n",
      "5/5 [==============================] - 0s 5ms/step - loss: 1.0499 - accuracy: 0.6200\n",
      "Epoch 48/50\n",
      "5/5 [==============================] - 0s 4ms/step - loss: 1.0369 - accuracy: 0.6400\n",
      "Epoch 49/50\n",
      "5/5 [==============================] - 0s 5ms/step - loss: 0.9768 - accuracy: 0.6600\n",
      "Epoch 50/50\n",
      "5/5 [==============================] - 0s 4ms/step - loss: 0.9668 - accuracy: 0.7600\n"
     ]
    },
    {
     "data": {
      "text/plain": [
       "[<matplotlib.lines.Line2D at 0x11efc465290>]"
      ]
     },
     "execution_count": 3,
     "metadata": {},
     "output_type": "execute_result"
    },
    {
     "data": {
      "image/png": "[encoded data removed]",
      "text/plain": [
       "<Figure size 640x480 with 1 Axes>"
      ]
     },
     "metadata": {},
     "output_type": "display_data"
    }
   ],
   "source": [
    "model.compile(optimizer=\"adam\",loss='categorical_crossentropy',metrics=['accuracy'])\n",
    "model.fit(xtrain,ytrain,epochs=50,batch_size=10)\n",
    "l = model.history.history['loss']\n",
    "plt.plot(l)\n"
   ]
  },
  {
   "cell_type": "code",
   "execution_count": 4,
   "metadata": {},
   "outputs": [
    {
     "name": "stdout",
     "output_type": "stream",
     "text": [
      "1/1 [==============================] - 0s 336ms/step - loss: 1.8732 - accuracy: 0.4000\n"
     ]
    },
    {
     "data": {
      "text/plain": [
       "[1.8732131719589233, 0.4000000059604645]"
      ]
     },
     "execution_count": 4,
     "metadata": {},
     "output_type": "execute_result"
    },
    {
     "data": {
      "image/png": "[encoded data removed]",
      "text/plain": [
       "<Figure size 640x480 with 1 Axes>"
      ]
     },
     "metadata": {},
     "output_type": "display_data"
    }
   ],
   "source": [
    "xtrain = []\n",
    "ytrain = []\n",
    "for i in range(10):\n",
    "    gray = cv.cvtColor(img,cv.COLOR_BGR2GRAY)\n",
    "    shape = gray.shape\n",
    "    x = int(559/15.8)\n",
    "    y = int(shape[0]/10)\n",
    "    n = np.random.randint(8)\n",
    "    n2 = np.random.randint(15)\n",
    "    digit = gray[y*n:y*(n+1),x*n2:x*(n2+1)]\n",
    "    \n",
    "    xtrain.append(digit)\n",
    "    one_hot = [0,0,0,0,0,0,0,0,0,0]\n",
    "    one_hot[n] = 1\n",
    "    ytrain.append(one_hot)\n",
    "    plt.imshow(digit)\n",
    "\n",
    "xtrain = tf.keras.utils.normalize(xtrain,axis=1)\n",
    "ytrain = tf.keras.utils.normalize(ytrain,axis=1)\n",
    "model.evaluate(xtrain,ytrain)"
   ]
  },
  {
   "cell_type": "code",
   "execution_count": 5,
   "metadata": {},
   "outputs": [
    {
     "name": "stdout",
     "output_type": "stream",
     "text": [
      "INFO:tensorflow:Assets written to: first_numebr_model\\assets\n"
     ]
    },
    {
     "name": "stderr",
     "output_type": "stream",
     "text": [
      "INFO:tensorflow:Assets written to: first_numebr_model\\assets\n"
     ]
    },
    {
     "data": {
      "image/png": "[encoded data removed]",
      "text/plain": [
       "<Figure size 640x480 with 1 Axes>"
      ]
     },
     "metadata": {},
     "output_type": "display_data"
    }
   ],
   "source": [
    "gray = cv.cvtColor(img,cv.COLOR_BGR2GRAY)\n",
    "shape = gray.shape\n",
    "x = int(559/15.8)\n",
    "y = int(shape[0]/10)\n",
    "n = np.random.randint(8)\n",
    "n2 = np.random.randint(15)\n",
    "digit = gray[y*n:y*(n+1),x*n2:x*(n2+1)]\n",
    "show = digit     #dgt\n",
    "xtest = digit\n",
    "one_hot = [0,0,0,0,0,0,0,0,0,0]\n",
    "one_hot[n] = 1\n",
    "ytest = one_hot\n",
    "plt.imshow(digit)\n",
    "cv.imshow(\"img\",digit)\n",
    "xtest = [digit]\n",
    "ytest = [one_hot]\n",
    "\n",
    "\n",
    "xtest = tf.keras.utils.normalize(xtest,axis=1)\n",
    "model.save(\"first_numebr_model\")\n",
    "cv.waitKey(0)\n",
    "cv.destroyAllWindows()"
   ]
  },
  {
   "cell_type": "code",
   "execution_count": 1,
   "metadata": {},
   "outputs": [
    {
     "ename": "NameError",
     "evalue": "name 'tf' is not defined",
     "output_type": "error",
     "traceback": [
      "\u001b[1;31m---------------------------------------------------------------------------\u001b[0m",
      "\u001b[1;31mNameError\u001b[0m                                 Traceback (most recent call last)",
      "Cell \u001b[1;32mIn[1], line 1\u001b[0m\n\u001b[1;32m----> 1\u001b[0m new_model \u001b[38;5;241m=\u001b[39m \u001b[43mtf\u001b[49m\u001b[38;5;241m.\u001b[39mkeras\u001b[38;5;241m.\u001b[39mmodels\u001b[38;5;241m.\u001b[39mload_model(\u001b[38;5;124m\"\u001b[39m\u001b[38;5;124mfirst_numebr_model\u001b[39m\u001b[38;5;124m\"\u001b[39m)\n\u001b[0;32m      2\u001b[0m pred \u001b[38;5;241m=\u001b[39m new_model\u001b[38;5;241m.\u001b[39mpredict(xtest)\n\u001b[0;32m      3\u001b[0m x \u001b[38;5;241m=\u001b[39m \u001b[38;5;241m0\u001b[39m\n",
      "\u001b[1;31mNameError\u001b[0m: name 'tf' is not defined"
     ]
    }
   ],
   "source": [
    "new_model = tf.keras.models.load_model(\"first_numebr_model\")\n",
    "pred = new_model.predict(xtest)\n",
    "x = 0\n",
    "lst = list(pred)\n",
    "m = np.max(pred)\n",
    "for i in np.nditer(pred):\n",
    "    if i == np.max(pred):\n",
    "        print(i)\n",
    "        print(x)\n",
    "    x += 1\n",
    "cv.imshow(\"dgt\",dgit)"
   ]
  }
 ],
 "metadata": {
  "kernelspec": {
   "display_name": "Python 3",
   "language": "python",
   "name": "python3"
  },
  "language_info": {
   "codemirror_mode": {
    "name": "ipython",
    "version": 3
   },
   "file_extension": ".py",
   "mimetype": "text/x-python",
   "name": "python",
   "nbconvert_exporter": "python",
   "pygments_lexer": "ipython3",
   "version": "3.11.2"
  }
 },
 "nbformat": 4,
 "nbformat_minor": 2
}
